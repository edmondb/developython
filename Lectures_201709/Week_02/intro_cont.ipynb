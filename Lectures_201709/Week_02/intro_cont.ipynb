{
 "cells": [
  {
   "cell_type": "markdown",
   "metadata": {},
   "source": [
    "![NASA](http://www.nasa.gov/sites/all/themes/custom/nasatwo/images/nasa-logo.svg)\n",
    "![DEVELOP](../../DEVELOP_logo.png)\n",
    "\n",
    "---\n",
    "\n",
    "# Basic Python Continued\n",
    "\n",
    "### Goddard Space Flight Center\n",
    "\n",
    "#### September 25, 2017\n",
    "\n",
    "---"
   ]
  },
  {
   "cell_type": "markdown",
   "metadata": {},
   "source": [
    "### Recap\n",
    "\n",
    "---\n",
    "\n",
    "* Anaconda installation - virtual environment - using the Jupyter notebook (not the only way to execute Python code)\n",
    "* Python as a calculator (simple math)\n",
    "* Imports and the power they possess\n",
    "* Strings, formatting, and printing\n",
    "* Data types\n",
    "* Conditionals\n",
    "* Loops"
   ]
  },
  {
   "cell_type": "markdown",
   "metadata": {},
   "source": [
    "### Getting this lecture...\n",
    "\n",
    "---\n",
    "\n",
    "You can download this lecture here by copying all the text and then saving it in an ASCII file (using a text editor) with the .ipynb extension. We will be using the code in this notebook interactively and you will probably want to run it yourself.\n",
    "\n",
    "# Important\n",
    "\n",
    "Please install the _netCDF4_ Python package first from your Anaconda command prompt via:\n",
    "\n",
    "```bash\n",
    "conda install netCDF4\n",
    "```"
   ]
  },
  {
   "cell_type": "markdown",
   "metadata": {},
   "source": [
    "### File I/O\n",
    "\n",
    "---\n",
    "\n",
    "File types:\n",
    "* __ASCII/Binary__ - simple (binary isn't if you don't know the format)\n",
    "* __CSV/JSON files__ - need specific format reader/writer package\n",
    "* __Earth Science Structured data - HDF, netCDF4, etc.__ - more complex"
   ]
  },
  {
   "cell_type": "markdown",
   "metadata": {},
   "source": [
    "### ASCII/Binary\n",
    "\n",
    "---\n",
    "\n",
    "Old:\n",
    "```python\n",
    "f = open('filename.ascii', 'w')\n",
    "f.write('Hi there.')\n",
    "f.close()\n",
    "```\n",
    "\n",
    "New:\n",
    "```python\n",
    "with open('filename.ascii', 'w') as f:\n",
    "    f.write('Hi there.')\n",
    "```\n",
    "\n",
    "__Note:__ Binary read/write is simply just adding a _'b'_ after the mode of opening the file (eg. 'wb' for writing binary).  \n",
    "> __File modes:__ r, w, a, + versions, b versions"
   ]
  },
  {
   "cell_type": "markdown",
   "metadata": {},
   "source": [
    "Although I'm not going to cover them, CSV and JSON file content types are very useful in applications today. Most web applications (GET/POST requests) use JSON for data transactions. The __[csv](http://docs.python.org/2/library/csv.html)__ and __[json](http://docs.python.org/2/library/json.html)__ packages are very useful for dealing with these data."
   ]
  },
  {
   "cell_type": "markdown",
   "metadata": {},
   "source": [
    "> _pickles..._ Python has this thing called pickles where you \"temporarily\" store data. It's a binary file, but is only for small storage that is needed for a short time."
   ]
  },
  {
   "cell_type": "markdown",
   "metadata": {},
   "source": [
    "### NumPy: Multidimensional Arrays in Python\n",
    "\n",
    "---\n",
    "\n",
    "__[numpy](https://docs.scipy.org/doc/numpy-1.13.0/reference/)__ is short for numerical Python, and is a very powerful and well-supported package that adds multidimensional arrays and numerous mathematical and statistical operations to Python. An even more feature-rich and powerful option is __[scipy](https://docs.scipy.org/doc/scipy/reference/)__, which expands on __```numpy```__.\n",
    "\n",
    "The core element of __```numpy```__ is the n-dimensional array, or ndarray. To create an array, one has multiple options, including entering numbers directly:"
   ]
  },
  {
   "cell_type": "code",
   "execution_count": 1,
   "metadata": {
    "collapsed": false
   },
   "outputs": [
    {
     "name": "stdout",
     "output_type": "stream",
     "text": [
      "[[1 5 8]\n",
      " [5 7 2]]\n"
     ]
    }
   ],
   "source": [
    "import numpy as np\n",
    "a = np.array([[1,5,8],[5,7,2]])\n",
    "print(a)"
   ]
  },
  {
   "cell_type": "markdown",
   "metadata": {},
   "source": [
    "...converting from a list or other iterable:"
   ]
  },
  {
   "cell_type": "code",
   "execution_count": 2,
   "metadata": {
    "collapsed": false
   },
   "outputs": [
    {
     "name": "stdout",
     "output_type": "stream",
     "text": [
      "[5 6 8 3 8 4]\n"
     ]
    }
   ],
   "source": [
    "l = [5,6,8,3,8,4]\n",
    "a = np.array(l)\n",
    "print(a)"
   ]
  },
  {
   "cell_type": "markdown",
   "metadata": {},
   "source": [
    "...or using one of the specialized constructor functions to make arrays full of ones, random values, or, in this case, zeros:"
   ]
  },
  {
   "cell_type": "code",
   "execution_count": 4,
   "metadata": {
    "collapsed": false
   },
   "outputs": [
    {
     "name": "stdout",
     "output_type": "stream",
     "text": [
      "[[ 0.  0.  0.]\n",
      " [ 0.  0.  0.]\n",
      " [ 0.  0.  0.]]\n"
     ]
    }
   ],
   "source": [
    "a = np.zeros((3,3))\n",
    "print(a)"
   ]
  },
  {
   "cell_type": "markdown",
   "metadata": {},
   "source": [
    "There are also ways to read text files directly into NumPy arrays (```loadtxt``` or ```genfromtext```).\n",
    "\n",
    "Once you have an array, there are numerous operations available to you, both element-wise (i.e. performed on each value of the array):"
   ]
  },
  {
   "cell_type": "code",
   "execution_count": 9,
   "metadata": {
    "collapsed": false
   },
   "outputs": [
    {
     "name": "stdout",
     "output_type": "stream",
     "text": [
      "[[ 6  8 17]\n",
      " [ 5 10  9]]\n",
      "[[15  9 27]\n",
      " [ 0  9 21]]\n"
     ]
    }
   ],
   "source": [
    "a = np.array([[1,5,8],[5,7,2]])\n",
    "b = np.array([[5,3,9],[0,3,7]])\n",
    "c = a + b\n",
    "print(c)\n",
    "d = b * 3\n",
    "print(d)"
   ]
  },
  {
   "cell_type": "markdown",
   "metadata": {},
   "source": [
    "...and across an entire array:"
   ]
  },
  {
   "cell_type": "code",
   "execution_count": 7,
   "metadata": {
    "collapsed": false
   },
   "outputs": [
    {
     "name": "stdout",
     "output_type": "stream",
     "text": [
      "28\n",
      "4.5\n"
     ]
    }
   ],
   "source": [
    "total = np.sum(a)\n",
    "print(total)\n",
    "avg = np.mean(b)\n",
    "print(avg)"
   ]
  },
  {
   "cell_type": "markdown",
   "metadata": {},
   "source": [
    "NumPy has many other cool abilities, like performing math along specific axes of an array (e.g. summing all of the columns of a 2D array) and using masks. Finally, particularly enthusiastic geospatial analysts can apply NumPy's extensive capabilities to raster images by reading said rasters into NumPy and then manipulating to their heart's content. Two ways to perform this conversion are 1) __[GDAL](https://github.com/edmondb/developython/blob/master/Archive/Lectures_201702/Week_05/week_5.ipynb)__, a powerful raster analysis program covered in a lecture from a previous term (see link) or 2) ```arcpy.RasterToNumPyArray```, a simpler but more constrained option.\n",
    "\n",
    "However, for analysis problems where NumPy or SciPy's mathematical and statistical capabilities are not necessary, processing rasters directly in ArcPy (to be covered in the next lecture), will be most straightforward."
   ]
  },
  {
   "cell_type": "markdown",
   "metadata": {},
   "source": [
    "### Earth Science Structured Data\n",
    "\n",
    "---\n",
    "\n",
    "The __[h5py](http://docs.h5py.org/en/latest/)__ and __[netcdf4](http://unidata.github.io/netcdf4-python/)__ Python packages are very useful for reading structured data (multidimensional, multivariate, time-series, etc.). Here, we are going to look at reading and visualizing some structured data."
   ]
  },
  {
   "cell_type": "markdown",
   "metadata": {},
   "source": [
    "#### ISS RapidScat Data - netCDF4\n",
    "\n",
    "---\n",
    "\n",
    "- Make sure you have installed the _netCDF4_ Python package.\n",
    "- Retrieve the data via FTP:\n",
    "\n",
    "[Link for manual download via FTP](ftp://podaac-ftp.jpl.nasa.gov/allData/rapidscat/L2B12/v1.3)"
   ]
  },
  {
   "cell_type": "code",
   "execution_count": null,
   "metadata": {
    "collapsed": true
   },
   "outputs": [],
   "source": [
    "import ftplib\n",
    "\n",
    "ftp = ftplib.FTP('podaac-ftp.jpl.nasa.gov')\n",
    "ftp.login()\n",
    "ftp.cwd('allData/rapidscat/L2B12/v1.3/2016/232')\n",
    "ftp.retrbinary('RETR rs_l2b_v1.3_10827_201609290531.nc.gz', open('ISS.nc.gz', 'wb').write)\n",
    "ftp.quit()"
   ]
  },
  {
   "cell_type": "markdown",
   "metadata": {
    "collapsed": true
   },
   "source": [
    "- Manually unzip/uncompress this file.\n",
    "- Let's read the data now..."
   ]
  },
  {
   "cell_type": "code",
   "execution_count": null,
   "metadata": {
    "collapsed": true
   },
   "outputs": [],
   "source": [
    "%matplotlib inline\n",
    "\n",
    "import matplotlib.pyplot as plt\n",
    "import netCDF4 as nc\n",
    "\n",
    "f = nc.Dataset('ISS.nc', 'r')\n",
    "print(f.variables.keys())"
   ]
  },
  {
   "cell_type": "code",
   "execution_count": null,
   "metadata": {
    "collapsed": true
   },
   "outputs": [],
   "source": [
    "z = f.variables['retrieved_wind_speed']"
   ]
  },
  {
   "cell_type": "code",
   "execution_count": null,
   "metadata": {
    "collapsed": true
   },
   "outputs": [],
   "source": [
    "z.dimensions"
   ]
  },
  {
   "cell_type": "markdown",
   "metadata": {},
   "source": [
    "### Visualizing\n",
    "\n",
    "---\n",
    "\n",
    "Matplotlib is basically Python's replacement for Matlab's plotting capabilities. Here is an example of plotting data from our file."
   ]
  },
  {
   "cell_type": "code",
   "execution_count": null,
   "metadata": {
    "collapsed": true
   },
   "outputs": [],
   "source": [
    "fig = plt.figure(figsize = (20,20))\n",
    "ax = fig.add_subplot(111)\n",
    "img = ax.imshow(f.variables['retrieved_wind_speed'][:].transpose(), interpolation=None)"
   ]
  },
  {
   "cell_type": "markdown",
   "metadata": {},
   "source": [
    "We could extend this to actually visualize the data plotted on a map (using the Basemap package) and manipulate the NumPy array to give us statistics or further insight into what the data shows us and how it is characterized."
   ]
  }
 ],
 "metadata": {
  "kernelspec": {
   "display_name": "Python 2",
   "language": "python",
   "name": "python2"
  },
  "language_info": {
   "codemirror_mode": {
    "name": "ipython",
    "version": 2
   },
   "file_extension": ".py",
   "mimetype": "text/x-python",
   "name": "python",
   "nbconvert_exporter": "python",
   "pygments_lexer": "ipython2",
   "version": "2.7.13"
  }
 },
 "nbformat": 4,
 "nbformat_minor": 2
}
