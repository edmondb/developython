{
 "cells": [
  {
   "cell_type": "markdown",
   "metadata": {},
   "source": [
    "![NASA](http://www.nasa.gov/sites/all/themes/custom/nasatwo/images/nasa-logo.svg)\n",
    "![DEVELOP](../../DEVELOP_logo.png)\n",
    "\n",
    "---\n",
    "\n",
    "# Introduction Continued\n",
    "\n",
    "### Goddard Space Flight Center\n",
    "\n",
    "#### June 13, 2017\n",
    "\n",
    "---"
   ]
  },
  {
   "cell_type": "markdown",
   "metadata": {},
   "source": [
    "### Recap\n",
    "\n",
    "---\n",
    "\n",
    "* Anaconda installation - virtual environment - using the Jupyter notebook (not the only way to execute Python code)\n",
    "* Python as a calculator (simple math)\n",
    "* Imports and the power they possess\n",
    "* Strings, formatting, and printing\n",
    "* Data types\n",
    "* Conditionals\n",
    "* Loops"
   ]
  },
  {
   "cell_type": "markdown",
   "metadata": {},
   "source": [
    "### Getting this lecture...\n",
    "\n",
    "---\n",
    "\n",
    "You can download this lecture here by copying all the text and then saving it in an ASCII file (using a text editor) with the .ipynb extension. We will be using the code in this notebook interactively and you will probably want to run it yourself.\n",
    "\n",
    "# Important\n",
    "\n",
    "Please install the _netCDF4_ Python package first from your Anaconda command prompt via:\n",
    "\n",
    "```bash\n",
    "conda install netCDF4\n",
    "```"
   ]
  },
  {
   "cell_type": "markdown",
   "metadata": {},
   "source": [
    "### File I/O\n",
    "\n",
    "---\n",
    "\n",
    "File types:\n",
    "* __ASCII/Binary__ - simple (binary isn't if you don't know the format)\n",
    "* __CSV/JSON files__ - need specific format reader/writer package\n",
    "* __Earth Science Structured data - HDF, netCDF4, etc.__ - more complex"
   ]
  },
  {
   "cell_type": "markdown",
   "metadata": {},
   "source": [
    "### ASCII/Binary\n",
    "\n",
    "---\n",
    "\n",
    "Old:\n",
    "```python\n",
    "f = open('filename.ascii', 'w')\n",
    "f.write('Hi there.')\n",
    "f.close()\n",
    "```\n",
    "\n",
    "New:\n",
    "```python\n",
    "with open('filename.ascii', 'w') as f:\n",
    "    f.write('Hi there.')\n",
    "```\n",
    "\n",
    "__Note:__ Binary read/write is simply just adding a _'b'_ after the mode of opening the file (eg. 'wb' for writing binary).  \n",
    "> __File modes:__ r, w, a, + versions, b versions"
   ]
  },
  {
   "cell_type": "markdown",
   "metadata": {},
   "source": [
    "Although I'm not going to cover them, CSV and JSON file content types are very useful in applications today. Most web applications (GET/POST requests) use JSON for data transactions. The __[csv](http://docs.python.org/2/library/csv.html)__ and __[json](http://docs.python.org/2/library/json.html)__ packages are very useful for dealing with these data."
   ]
  },
  {
   "cell_type": "markdown",
   "metadata": {},
   "source": [
    "> _pickles..._ Python has this thing called pickles where you \"temporarily\" store data. It's a binary file, but is only for small storage that is needed for a short time."
   ]
  },
  {
   "cell_type": "markdown",
   "metadata": {},
   "source": [
    "### Earth Science Structured Data\n",
    "\n",
    "---\n",
    "\n",
    "The __[h5py]()__ and __[netCDF4]()__ Python packages are very useful for reading structured data (multidimensional, multivariate, time-series, etc.). Here, we are going to look at reading and visualizing some structured data."
   ]
  },
  {
   "cell_type": "markdown",
   "metadata": {},
   "source": [
    "#### ISS RapidScat Data - netCDF4\n",
    "\n",
    "---\n",
    "\n",
    "- Make sure you have installed the _netCDF4_ Python package.\n",
    "- Retrieve the data via FTP:\n",
    "\n",
    "[Link for manual download via FTP](ftp://podaac-ftp.jpl.nasa.gov/allData/rapidscat/L2B12/v1.3)"
   ]
  },
  {
   "cell_type": "code",
   "execution_count": null,
   "metadata": {
    "collapsed": true
   },
   "outputs": [],
   "source": [
    "import ftplib\n",
    "\n",
    "ftp = ftplib.FTP('podaac-ftp.jpl.nasa.gov')\n",
    "ftp.login()\n",
    "ftp.cwd('allData/rapidscat/L2B12/v1.3/2016/232')\n",
    "ftp.retrbinary('RETR rs_l2b_v1.3_10827_201609290531.nc.gz', open('ISS.nc.gz', 'wb').write)\n",
    "ftp.quit()"
   ]
  },
  {
   "cell_type": "markdown",
   "metadata": {
    "collapsed": true
   },
   "source": [
    "- Manually unzip/uncompress this file.\n",
    "- Let's read the data now..."
   ]
  },
  {
   "cell_type": "code",
   "execution_count": null,
   "metadata": {},
   "outputs": [],
   "source": [
    "%matplotlib inline\n",
    "\n",
    "import matplotlib.pyplot as plt\n",
    "import netCDF4 as nc\n",
    "\n",
    "f = nc.Dataset('ISS.nc', 'r')\n",
    "print(f.variables.keys())"
   ]
  },
  {
   "cell_type": "code",
   "execution_count": null,
   "metadata": {},
   "outputs": [],
   "source": [
    "z = f.variables['retrieved_wind_speed']"
   ]
  },
  {
   "cell_type": "code",
   "execution_count": null,
   "metadata": {},
   "outputs": [],
   "source": [
    "z.dimensions"
   ]
  },
  {
   "cell_type": "markdown",
   "metadata": {},
   "source": [
    "### Visualizing\n",
    "\n",
    "---\n",
    "\n",
    "Matplotlib is basically Python's replacement for Matlab. Here is an example of plotting data from our file."
   ]
  },
  {
   "cell_type": "code",
   "execution_count": null,
   "metadata": {},
   "outputs": [],
   "source": [
    "fig = plt.figure(figsize = (20,20))\n",
    "ax = fig.add_subplot(111)\n",
    "img = ax.imshow(f.variables['retrieved_wind_speed'][:].transpose(), interpolation=None)"
   ]
  },
  {
   "cell_type": "markdown",
   "metadata": {},
   "source": [
    "We could extend this to actually visualize the data plotted on a map (using the Basemap package) and manipulate the NumPy array to give us statistics or further insight into what the data shows us and how it is characterized."
   ]
  }
 ],
 "metadata": {
  "kernelspec": {
   "display_name": "Python 2",
   "language": "python",
   "name": "python2"
  },
  "language_info": {
   "codemirror_mode": {
    "name": "ipython",
    "version": 2
   },
   "file_extension": ".py",
   "mimetype": "text/x-python",
   "name": "python",
   "nbconvert_exporter": "python",
   "pygments_lexer": "ipython2",
   "version": "2.7.13"
  }
 },
 "nbformat": 4,
 "nbformat_minor": 2
}
