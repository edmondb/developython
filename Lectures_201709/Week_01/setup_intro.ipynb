{
 "cells": [
  {
   "cell_type": "markdown",
   "metadata": {},
   "source": [
    "![NASA](http://www.nasa.gov/sites/all/themes/custom/nasatwo/images/nasa-logo.svg)\n",
    "![DEVELOP](../../DEVELOP_logo.png)\n",
    "\n",
    "---\n",
    "\n",
    "# Setup & Introduction\n",
    "\n",
    "### Goddard Space Flight Center\n",
    "\n",
    "#### June 5, 2017\n",
    "\n",
    "---"
   ]
  },
  {
   "cell_type": "markdown",
   "metadata": {},
   "source": [
    "### Our Setup\n",
    "\n",
    "---\n",
    "\n",
    "* Anaconda - Virtual environment (don't need to be root/admin), completely free (and easily managed), from Continuum\n",
    "* Enthought Canopy - Virtual environment, not free to add packages/libraries, having several versions gets messy, more business oriented (weirdly is part of Continuum)\n",
    "\n",
    "##### Computer Setup Instructions\n",
    "\n",
    "[Basic Setup](https://github.com/edmondb/developython/blob/master/README.md)"
   ]
  },
  {
   "cell_type": "markdown",
   "metadata": {},
   "source": [
    "### Who Are We?\n",
    "\n",
    "---\n",
    "\n",
    "* Brent Smith - Senior Scientific Programmer/Analyst, Code 610.1 GMAO - Operational developer, background: theoretical space physics\n",
    "* Alfred Hubbard - Scientific Programmer/Analyst, Code 618; maps floods, vegetation, and sometimes other stuff with remotely sensed imagery; uses Python regularly to aid GIS analysis; background in biology and environmental science"
   ]
  },
  {
   "cell_type": "markdown",
   "metadata": {},
   "source": [
    "### The Python Programming Language - A Synopsis\n",
    "\n",
    "---\n",
    "\n",
    "* Interpreted (think language translator between you and the computer)\n",
    "* Ways to run Python Code:\n",
    "  * __As a .py script (plain text document with python code, I use this method most)__\n",
    "  * In the Python shell (from the command line - not a good option)\n",
    "  * In the iPython shell (interactive, better - still not a good option)\n",
    "  * __In a Jupyter notebook (shareable, you are seeing one now, can run as a script or document)__"
   ]
  },
  {
   "cell_type": "markdown",
   "metadata": {},
   "source": [
    "### As a script\n",
    "\n",
    "---\n",
    "\n",
    "1. Open the helloworld.py script in your text editor to see the contents of this Python script.\n",
    "2. In a terminal/command prompt/Anaconda prompt, type:\n",
    "\n",
    "    ```bash\n",
    "    $ python helloworld.py\n",
    "    ```\n",
    "\n",
    "3. You should see the output on the screen.\n",
    "\n",
    "__Caveat:__ Your prompt should be at the directory containg the helloworld.py script. Perform an ```ls``` (Mac/Linux) or ```dir``` (Windows) to see if that file is in your current working directory."
   ]
  },
  {
   "cell_type": "markdown",
   "metadata": {},
   "source": [
    "### Jupyter notebook\n",
    "\n",
    "---\n",
    "\n",
    "1. From terminal/command prompt/Anaconda prompt type:\n",
    "\n",
    "    ```bash\n",
    "    jupyter notebook\n",
    "    ```\n",
    "\n",
    "2. This directs you to a web browser and you can navigate to an already existing notebook or create one (right side menu New -> Python [default]).\n",
    "3. This will open up a new Untitled notebook where you can directly input Python code, Markup formatted text, or have raw text.\n",
    "4. Type:\n",
    "\n",
    "    ```python\n",
    "    print('Hello world!')\n",
    "    ```\n",
    "\n",
    "5. Press __```Shift-Enter```__, __```Cntrl-Enter```__, or click __Cells -> Run Cells__ or use the Play button near the top of the page.\n",
    "6. You will see the output now.\n",
    "7. Exit via closing the browser windows and stopping the server running (Cntrl + Enter) in the terminal/command prompt."
   ]
  },
  {
   "cell_type": "markdown",
   "metadata": {},
   "source": [
    "### Quick Python Intro\n",
    "\n",
    "---\n",
    "\n",
    "Based off of: [Learn X in Y](http://learnxinyminutes.com/docs/python/)"
   ]
  },
  {
   "cell_type": "code",
   "execution_count": null,
   "metadata": {
    "collapsed": true
   },
   "outputs": [],
   "source": [
    "# Single line comments start with a number symbol.\n",
    "\n",
    "\"\"\" Multiline strings can be written\n",
    "    using three \"s or 's, and are often used\n",
    "    as comments\n",
    "\"\"\""
   ]
  },
  {
   "cell_type": "code",
   "execution_count": null,
   "metadata": {},
   "outputs": [],
   "source": [
    "# store inside a variable\n",
    "result = -2*(4+9)\n",
    "print(result)"
   ]
  },
  {
   "cell_type": "code",
   "execution_count": null,
   "metadata": {},
   "outputs": [],
   "source": [
    "# Imports\n",
    "\n",
    "import math\n",
    "math.pi"
   ]
  },
  {
   "cell_type": "markdown",
   "metadata": {},
   "source": [
    "> Python imports are like libraries/utilities that others have written for you to use. You can import packages (set of scripts) or modules (single scripts).\n",
    "\n",
    "The Python Style Guide tells you the best way to perform imports, name functions, and overall coding advice. It used to be called PEP8 (Python Enhancement Proposal 8), but in 2016, it was renamed to pycodestyle.\n",
    "\n",
    "* [PEP8](http://www.python.org/dev/peps/pep-0008/)\n",
    "* [pep8.org](http://pep8.org) - a more human friendly approach"
   ]
  },
  {
   "cell_type": "markdown",
   "metadata": {},
   "source": [
    "__Strings__\n",
    "\n",
    "* Single-quotes: `'a string'`\n",
    "* Double-quotes: `\"another string\"`\n",
    "* Joining/concatenation: `'FirstName' + 'LastName'`\n",
    "* Formatting: [PyFormat](http://pyformat.info)"
   ]
  },
  {
   "cell_type": "markdown",
   "metadata": {},
   "source": [
    "__Iterables__\n",
    "\n",
    "* Lists (think strings as a list of characters; grocery lists):\n",
    "\n",
    "  ```python\n",
    "  a_list = ['item 1', 'something else', 2, True, 'and so on']\n",
    "  another = list('hello')\n",
    "  ```\n",
    "* Tuples (like lists, but not changing)\n",
    "  \n",
    "  ```python\n",
    "  numbers = (1,2,3)\n",
    "  first, second, third = numbers\n",
    "  another = tuple('one', 'two')\n",
    "  ```\n",
    "  \n",
    "* Dictionaries (key/value pairing; like a word dictionary)\n",
    "  \n",
    "  ```python\n",
    "  d = {'key1':'value', 'key2':20, 3:['a', 'list'], 'k5':{'a':'nested','dict':'!'}}\n",
    "  another = dict(key='value', key2='another')\n",
    "  ```"
   ]
  },
  {
   "cell_type": "markdown",
   "metadata": {},
   "source": [
    "__Control flow__\n",
    "\n",
    "---\n",
    "\n",
    "__conditionals__\n",
    "\n",
    "```python\n",
    "some_var = 5\n",
    "\n",
    "if some_var > 10:\n",
    "    print(\"some_var is totally bigger than 10.\")\n",
    "elif some_var < 10:  # This elif clause is optional.\n",
    "    print(\"some_var is smaller than 10.\")\n",
    "else:  # This is optional too.\n",
    "    print(\"some_var is indeed 10.\")\n",
    "```"
   ]
  },
  {
   "cell_type": "markdown",
   "metadata": {},
   "source": [
    "__loops__\n",
    "\n",
    "```python\n",
    "for i in range(4):\n",
    "    print(i)\n",
    "```\n",
    "\n",
    "```python\n",
    "# conditionally based\n",
    "x = 0\n",
    "while x < 4:\n",
    "    print(x)\n",
    "    x += 1\n",
    "```"
   ]
  }
 ],
 "metadata": {
  "kernelspec": {
   "display_name": "Python 2",
   "language": "python",
   "name": "python2"
  },
  "language_info": {
   "codemirror_mode": {
    "name": "ipython",
    "version": 2
   },
   "file_extension": ".py",
   "mimetype": "text/x-python",
   "name": "python",
   "nbconvert_exporter": "python",
   "pygments_lexer": "ipython2",
   "version": "2.7.13"
  }
 },
 "nbformat": 4,
 "nbformat_minor": 2
}
